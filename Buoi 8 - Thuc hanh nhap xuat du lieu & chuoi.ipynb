{
 "cells": [
  {
   "cell_type": "markdown",
   "id": "5bc93fb0",
   "metadata": {},
   "source": [
    "# Thực hành nhập xuất dữ liệu & chuỗi\n",
    "\n",
    "### Bài tập tra cứu lệnh\n",
    "\n",
    "Nhập vào một chuỗi, kiểm tra xem chuỗi đó có ký tự nào là chữ in hoa hay không, nếu có thì in True, không có thì in False"
   ]
  },
  {
   "cell_type": "code",
   "execution_count": 6,
   "id": "4b3df2ba",
   "metadata": {},
   "outputs": [
    {
     "name": "stdout",
     "output_type": "stream",
     "text": [
      "Nhap vao mot chuoi: Minh\n",
      "True\n"
     ]
    }
   ],
   "source": [
    "a = input(\"Nhap vao mot chuoi: \")\n",
    "b = a.islower()\n",
    "print (not (b))"
   ]
  },
  {
   "cell_type": "markdown",
   "id": "e14eae7c",
   "metadata": {},
   "source": [
    "Nhập vào một chuỗi, kiểm tra xem chuỗi đó có ký tự nào là chữ in thường hay không, nếu có thì in True, không có thì in False"
   ]
  },
  {
   "cell_type": "code",
   "execution_count": 4,
   "id": "ab00180c",
   "metadata": {},
   "outputs": [
    {
     "name": "stdout",
     "output_type": "stream",
     "text": [
      "Nhap chuoi: nhap\n",
      "True\n"
     ]
    }
   ],
   "source": [
    "a = input(\"Nhap chuoi: \")\n",
    "b = a.isupper()\n",
    "print (not (b))"
   ]
  },
  {
   "cell_type": "markdown",
   "id": "eab86ecf",
   "metadata": {},
   "source": [
    "Nhập vào một chuỗi a và chuỗi b, tìm vị trí đầu tiên xuất hiện chuỗi b trong chuỗi a"
   ]
  },
  {
   "cell_type": "code",
   "execution_count": 1,
   "id": "051eb4af",
   "metadata": {},
   "outputs": [
    {
     "name": "stdout",
     "output_type": "stream",
     "text": [
      "Nhap chuoi 1: hello anh moi nguoi\n",
      "Nhap chuoi 2: hello\n",
      "0\n"
     ]
    }
   ],
   "source": [
    "a = input(\"Nhap chuoi 1: \")\n",
    "b = input(\"Nhap chuoi 2: \")\n",
    "c = a.find(b)\n",
    "print(c)"
   ]
  },
  {
   "cell_type": "markdown",
   "id": "9239bc4e",
   "metadata": {},
   "source": [
    "Nhập vào một chuỗi a, hãy xóa từ đầu tiên trong chuỗi a, rồi in ra màn hình"
   ]
  },
  {
   "cell_type": "code",
   "execution_count": 2,
   "id": "90967cd9",
   "metadata": {},
   "outputs": [
    {
     "name": "stdout",
     "output_type": "stream",
     "text": [
      "Nhap chuoi: xig chao moi nguoi\n",
      "3\n",
      "chao moi nguoi\n"
     ]
    }
   ],
   "source": [
    "a = input(\"Nhap chuoi: \")\n",
    "x = a.find(\" \")\n",
    "print(x)\n",
    "b=a[x+1: len(a)]\n",
    "print(b)"
   ]
  },
  {
   "cell_type": "markdown",
   "id": "05b74fb4",
   "metadata": {},
   "source": [
    "### Bài 1\n",
    "\n",
    "Nhập vào một chuỗi, đếm xem có bao nhiêu từ trong chuỗi kết thúc bằng chữ n"
   ]
  },
  {
   "cell_type": "code",
   "execution_count": 10,
   "id": "d126675c",
   "metadata": {},
   "outputs": [
    {
     "name": "stdout",
     "output_type": "stream",
     "text": [
      "Nhap chuoi : xin xin xin xin\n",
      "4\n"
     ]
    }
   ],
   "source": [
    "a = input(\"Nhap chuoi : \")\n",
    "a = a +\" \"\n",
    "b = a.count(\"n \")\n",
    "print(b)"
   ]
  },
  {
   "cell_type": "markdown",
   "id": "53a78d35",
   "metadata": {},
   "source": [
    "### Bài 2\n",
    "\n",
    "Nhập vào một chuỗi, kiểm tra xem chuỗi đó có ký tự hoa hoặc ký tự thường hay không."
   ]
  },
  {
   "cell_type": "code",
   "execution_count": 1,
   "id": "f5be8c39",
   "metadata": {},
   "outputs": [
    {
     "name": "stdout",
     "output_type": "stream",
     "text": [
      "Nhap chuoi: Minh DEPZAI\n",
      "Kiểm tra kí tự hoa:  True\n",
      "Kiểm tra kí tự thường:  True\n"
     ]
    }
   ],
   "source": [
    "a = input(\"Nhap chuoi: \")\n",
    "b = a.islower()\n",
    "print(\"Kiểm tra kí tự hoa: \", not (b))\n",
    "b = a.isupper()\n",
    "print(\"Kiểm tra kí tự thường: \", not (b))"
   ]
  },
  {
   "cell_type": "code",
   "execution_count": 2,
   "id": "7d2bacb5",
   "metadata": {},
   "outputs": [
    {
     "name": "stdout",
     "output_type": "stream",
     "text": [
      "Nhap chuoi: Minh DEPZAI\n",
      "Kiểm tra kí tự thường:  False\n",
      "Kiểm tra kí tự hoa:  False\n"
     ]
    }
   ],
   "source": [
    "a = input(\"Nhap chuoi: \")\n",
    "b = a.islower()\n",
    "print(\"Kiểm tra kí tự thường: \", (b))\n",
    "b = a.isupper()\n",
    "print(\"Kiểm tra kí tự hoa: \", (b))"
   ]
  },
  {
   "cell_type": "markdown",
   "id": "64ca662e",
   "metadata": {},
   "source": [
    "### Bài 3\n",
    "\n",
    "Nhập vào một chuỗi, kiểm tra tính đối xứng của chuỗi đó"
   ]
  },
  {
   "cell_type": "code",
   "execution_count": 14,
   "id": "749f4136",
   "metadata": {},
   "outputs": [
    {
     "name": "stdout",
     "output_type": "stream",
     "text": [
      "Nhap chuoi: 1234321\n",
      "True\n"
     ]
    }
   ],
   "source": [
    "chuoi = input(\"Nhap chuoi: \")\n",
    "a = 0\n",
    "b = -1\n",
    "kt = True\n",
    "for i in range(int(len(chuoi)/2)):\n",
    "    c = chuoi[a] == chuoi[b]\n",
    "    kt = c and kt\n",
    "    a = a + 1\n",
    "    b = b - 1\n",
    "print(kt)"
   ]
  },
  {
   "cell_type": "markdown",
   "id": "85dd8fef",
   "metadata": {},
   "source": [
    "### Bài 4\n",
    "\n",
    "Nhập vào một chuỗi, in ra những ký tự in hoa trong chuỗi đó"
   ]
  },
  {
   "cell_type": "code",
   "execution_count": null,
   "id": "0d099247",
   "metadata": {},
   "outputs": [],
   "source": [
    "chuoi = input(\"Nhap chuoi: \")\n"
   ]
  },
  {
   "cell_type": "markdown",
   "id": "1373dc74",
   "metadata": {},
   "source": [
    "### Bài 5\n",
    "\n",
    "Nhập vào một chuỗi, tìm các ký tự chỉ xuất hiện một lần trong chuỗi (nếu xuất hiện 1 lần in true, xuất hiện nhiều lần in false)\n",
    "\n",
    "Ví dụ:\n",
    "\n",
    "Nhập chuỗi: \"ABAbc\"\n",
    "\n",
    "In:\n",
    "\n",
    "A: False\n",
    "\n",
    "B: True\n",
    "\n",
    "A: False\n",
    "\n",
    "b: True\n",
    "\n",
    "c: True"
   ]
  },
  {
   "cell_type": "code",
   "execution_count": 23,
   "id": "a93bc53d",
   "metadata": {},
   "outputs": [
    {
     "name": "stdout",
     "output_type": "stream",
     "text": [
      "Nhap chuoi: WEECom\n",
      "W :  True\n",
      "E :  False\n",
      "E :  False\n",
      "C :  True\n",
      "o :  True\n",
      "m :  True\n"
     ]
    }
   ],
   "source": [
    "chuoi = input(\"Nhap chuoi: \")\n",
    "a = 0\n",
    "for i in range(len(chuoi)):\n",
    "    c = chuoi.count(chuoi[a]) == 1\n",
    "    print(chuoi[a],\": \",c)\n",
    "    a = a + 1"
   ]
  },
  {
   "cell_type": "markdown",
   "id": "69bebf4c",
   "metadata": {},
   "source": [
    "### Bài 6\n",
    "\n",
    "Nhập vào một chuỗi, kiểm tra trong chuỗi có con số hay không, nếu có in True, không có in False"
   ]
  },
  {
   "cell_type": "code",
   "execution_count": 34,
   "id": "1b4eab4f",
   "metadata": {},
   "outputs": [
    {
     "name": "stdout",
     "output_type": "stream",
     "text": [
      "Nhap chuoi: Minh123456\n",
      "Kiem tra chuoi co so hay khong:  True\n"
     ]
    }
   ],
   "source": [
    "a = input(\"Nhap chuoi: \")\n",
    "b = 0\n",
    "kt = False\n",
    "for i in range(len(a)):\n",
    "    #isnumeric() Trả về True nếu tất cả các ký tự trong chuỗi là số\n",
    "    c = a[b].isnumeric()\n",
    "    kt = c or kt\n",
    "    b = b + 1\n",
    "print(\"Kiem tra chuoi co so hay khong: \", kt)\n",
    "        "
   ]
  },
  {
   "cell_type": "markdown",
   "id": "1e51403c",
   "metadata": {},
   "source": [
    "### Bài 7\n",
    "\n",
    "Nhập vào một chuỗi, tách những con số có trong chuỗi ra rồi tính tổng của chúng\n",
    "\n",
    "In tổng lên màn hình"
   ]
  },
  {
   "cell_type": "code",
   "execution_count": null,
   "id": "a34e349d",
   "metadata": {},
   "outputs": [],
   "source": [
    "a = input(\"Nhap chuoi: \")\n",
    "b = 0\n",
    "for i in range(len(a)):"
   ]
  },
  {
   "cell_type": "markdown",
   "id": "e951779d",
   "metadata": {},
   "source": [
    "### Bài 8\n",
    "\n",
    "Nhập vào một chuỗi, đảo ngược chuỗi đã nhập rồi in ra màn hình"
   ]
  },
  {
   "cell_type": "code",
   "execution_count": 36,
   "id": "9305f0f1",
   "metadata": {},
   "outputs": [
    {
     "name": "stdout",
     "output_type": "stream",
     "text": [
      "Nhap chuoi: Minh\n",
      "hniM\n"
     ]
    }
   ],
   "source": [
    "chuoi1 = input(\"Nhap chuoi: \")\n",
    "b = -1\n",
    "chuoi2 = \"\"\n",
    "for i in range(len(chuoi1)):\n",
    "    chuoi2 = chuoi2 + chuoi1[b]\n",
    "    b = b - 1\n",
    "print(chuoi2)"
   ]
  },
  {
   "cell_type": "markdown",
   "id": "04194b5c",
   "metadata": {},
   "source": [
    "### Bài 9\n",
    "\n",
    "Nhập vào một chuỗi, kiểm tra xem mỗi từ trong chuỗi có được viết hoa chữ cái đầu hay không, nếu tất cả đều được viết hoa thì in ra True, còn không thì in ra False\n",
    "\n",
    "Trong trường hợp là False, hãy viết hoa tất cả các chữ cái đầu của mỗi từ rồi in lên màn hình\n",
    "\n",
    "Cách làm thông thường:"
   ]
  },
  {
   "cell_type": "code",
   "execution_count": 7,
   "id": "9f947c7d",
   "metadata": {},
   "outputs": [
    {
     "ename": "SyntaxError",
     "evalue": "invalid syntax (Temp/ipykernel_10048/4131619531.py, line 5)",
     "output_type": "error",
     "traceback": [
      "\u001b[1;36m  File \u001b[1;32m\"C:\\Users\\lamin\\AppData\\Local\\Temp/ipykernel_10048/4131619531.py\"\u001b[1;36m, line \u001b[1;32m5\u001b[0m\n\u001b[1;33m    for i in range(len(chuoi))\u001b[0m\n\u001b[1;37m                              ^\u001b[0m\n\u001b[1;31mSyntaxError\u001b[0m\u001b[1;31m:\u001b[0m invalid syntax\n"
     ]
    }
   ],
   "source": [
    "chuoi = input(\"Nhập chuỗi: \")\n",
    "a = \" \" + chuoi\n",
    "b = 0\n",
    "sotu = a.count(\" \")\n"
   ]
  },
  {
   "cell_type": "markdown",
   "id": "f43e32af",
   "metadata": {},
   "source": [
    "Cách sử dụng lệnh có sẵn:"
   ]
  },
  {
   "cell_type": "code",
   "execution_count": null,
   "id": "714f1412",
   "metadata": {},
   "outputs": [],
   "source": [
    "chuoi = input(\"Nhập chuỗi: \")\n",
    "\n",
    "a = chuoi.title()\n",
    "print(a)"
   ]
  }
 ],
 "metadata": {
  "kernelspec": {
   "display_name": "Python 3 (ipykernel)",
   "language": "python",
   "name": "python3"
  },
  "language_info": {
   "codemirror_mode": {
    "name": "ipython",
    "version": 3
   },
   "file_extension": ".py",
   "mimetype": "text/x-python",
   "name": "python",
   "nbconvert_exporter": "python",
   "pygments_lexer": "ipython3",
   "version": "3.9.7"
  }
 },
 "nbformat": 4,
 "nbformat_minor": 5
}
