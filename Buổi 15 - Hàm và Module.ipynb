{
 "cells": [
  {
   "cell_type": "markdown",
   "id": "73456e5e",
   "metadata": {},
   "source": [
    "# Hàm\n",
    "\n",
    "### Hàm\n",
    "\n",
    "Cú pháp:\n",
    "\n",
    "`def <tên hàm>(<tham số)>:\n",
    "    //Nội dung hàm`\n",
    "\n",
    "Gọi hàm:\n",
    "`<tên hàm>(<giá trị đầu vào>)`\n",
    "\n",
    "Ví dụ:\n",
    "\n",
    "Hãy viết 1 hàm số để tính tổng 2 số đầu vào và in nó ra màn hình"
   ]
  },
  {
   "cell_type": "code",
   "execution_count": null,
   "id": "af5b9f6d",
   "metadata": {},
   "outputs": [],
   "source": []
  },
  {
   "cell_type": "markdown",
   "id": "a7c39f47",
   "metadata": {},
   "source": [
    "### Giá trị trả về của hàm\n",
    "\n",
    "# return\n",
    "\n",
    "Cú pháp:\n",
    "\n",
    "`retrun <giá trị trả về`\n",
    "\n",
    "##### Lưu ý: Sau khi thực hiện lệnh return, chương trình sẽ thoát khỏi hàm ngay lập tức (những lệnh sau đó không được thực hiện)\n",
    "\n",
    "Ví dụ:\n",
    "\n",
    "Hãy viết 1 hàm trả về giá trị trung bình của 2 số bất kỳ"
   ]
  },
  {
   "cell_type": "code",
   "execution_count": null,
   "id": "0b527b95",
   "metadata": {},
   "outputs": [],
   "source": []
  },
  {
   "cell_type": "markdown",
   "id": "1d7f8db0",
   "metadata": {},
   "source": [
    "### Bài tập"
   ]
  },
  {
   "cell_type": "markdown",
   "id": "75fb488b",
   "metadata": {},
   "source": [
    "Viết hàm kiểm tra số nguyên tố"
   ]
  },
  {
   "cell_type": "code",
   "execution_count": null,
   "id": "63701bd7",
   "metadata": {},
   "outputs": [],
   "source": []
  },
  {
   "cell_type": "markdown",
   "id": "221103cf",
   "metadata": {},
   "source": [
    "Nhập vào 3 điểm toán, lý, hóa\n",
    "\n",
    "Hãy viết hàm in điểm trung bung bình rồi tính điểm trung bình của toán lý, tóa hóa, lý hóa và toán lý hóa"
   ]
  },
  {
   "cell_type": "code",
   "execution_count": 2,
   "id": "1ba1d8ae",
   "metadata": {},
   "outputs": [
    {
     "name": "stdout",
     "output_type": "stream",
     "text": [
      "Điểm trung bình TLH 7.0\n",
      "Điểm trung bình TL 6.5\n",
      "Điểm trung bình TH 7.0\n",
      "Điểm trung bình TH 6.5\n"
     ]
    }
   ],
   "source": [
    "def tinhdiemtb(toan,ly,hoa):\n",
    "    print(\"Điểm trung bình TLH\", (toan + ly + hoa)/3)\n",
    "    print(\"Điểm trung bình TL\", (toan + ly)/2)\n",
    "    print(\"Điểm trung bình TH\", (toan + hoa)/2)\n",
    "    print(\"Điểm trung bình TH\", (toan + ly)/2)    \n",
    "\n",
    "tinhdiemtb(6,7,8)"
   ]
  },
  {
   "cell_type": "markdown",
   "id": "be2c1eaf",
   "metadata": {},
   "source": [
    "Viết hàm đếm số lượng từ của một chuỗi đưa vào"
   ]
  },
  {
   "cell_type": "code",
   "execution_count": 6,
   "id": "c7804191",
   "metadata": {},
   "outputs": [
    {
     "name": "stdout",
     "output_type": "stream",
     "text": [
      "Nhập vào một chuỗi: akjsfdnkjbfahdf\n"
     ]
    },
    {
     "ename": "NameError",
     "evalue": "name 'jkádkfabdjfbạdhbạk' is not defined",
     "output_type": "error",
     "traceback": [
      "\u001b[1;31m---------------------------------------------------------------------------\u001b[0m",
      "\u001b[1;31mNameError\u001b[0m                                 Traceback (most recent call last)",
      "\u001b[1;32m~\\AppData\\Local\\Temp/ipykernel_3860/2715710723.py\u001b[0m in \u001b[0;36m<module>\u001b[1;34m\u001b[0m\n\u001b[0;32m      8\u001b[0m             \u001b[0mkq\u001b[0m \u001b[1;33m+=\u001b[0m\u001b[1;36m1\u001b[0m\u001b[1;33m\u001b[0m\u001b[1;33m\u001b[0m\u001b[0m\n\u001b[0;32m      9\u001b[0m \u001b[1;33m\u001b[0m\u001b[0m\n\u001b[1;32m---> 10\u001b[1;33m \u001b[0mdemtu\u001b[0m\u001b[1;33m(\u001b[0m\u001b[0mjkádkfabdjfbạdhbạk\u001b[0m\u001b[1;33m)\u001b[0m\u001b[1;33m\u001b[0m\u001b[1;33m\u001b[0m\u001b[0m\n\u001b[0m",
      "\u001b[1;31mNameError\u001b[0m: name 'jkádkfabdjfbạdhbạk' is not defined"
     ]
    }
   ],
   "source": []
  },
  {
   "cell_type": "markdown",
   "id": "c39a37be",
   "metadata": {},
   "source": [
    "Viết một hàm vẽ hình tròn, một hàm vẽ hình vuông và một hàm vẽ hình tam giác đều (giá trị đầu vào là a)\n",
    "\n",
    "Tất cả hàm này, đều bắt đầu từ 1 vị trí, sau khi vẽ ra, con trỏ sẽ tiến tới vị trí tiếp theo, cách vì đầu một khoảng a + 10 theo chiều x từ trái sang\n"
   ]
  },
  {
   "cell_type": "code",
   "execution_count": 7,
   "id": "64e3c71b",
   "metadata": {},
   "outputs": [
    {
     "name": "stdout",
     "output_type": "stream",
     "text": [
      "Nhập chuỗi: vuong,tron,tamgiac,vuong,vuong\n",
      "Nhap a: 50\n"
     ]
    }
   ],
   "source": [
    "import turtle\n",
    "\n",
    "s = input('Nhập chuỗi: ')\n",
    "a = int(input(\"Nhap a: \"))\n",
    "\n",
    "t = turtle.Turtle()\n",
    "turtle.setup(1000, a+50)\n",
    "t.penup()\n",
    "t.goto(-500 + a/2, -a/2)\n",
    "t.pendown()\n",
    "\n",
    "def Tron(a):\n",
    "    t.penup()\n",
    "    t.fd(a/2)\n",
    "    t.pendown()\n",
    "    t.circle(a/2)\n",
    "    t.penup()\n",
    "    t.fd(a/2 + 10)\n",
    "    t.pendown()\n",
    "\n",
    "def Vuong(a):\n",
    "    for i in range(4):\n",
    "        t.fd(a)\n",
    "        t.lt(90)\n",
    "    t.penup()\n",
    "    t.fd(a + 10)\n",
    "    t.pendown()\n",
    "\n",
    "def TamGiac(a):\n",
    "    for i in range(3):\n",
    "        t.fd(a)\n",
    "        t.lt(120)\n",
    "    t.penup()\n",
    "    t.fd(a + 10)\n",
    "    t.pendown()\n",
    "\n",
    "\n",
    "s += \",\"\n",
    "temp = \"\"\n",
    "for i in s:\n",
    "    if i != \",\":\n",
    "        temp += i\n",
    "    else:\n",
    "        if temp == \"tron\":\n",
    "            Tron(a)\n",
    "        elif temp == \"vuong\":\n",
    "            Vuong(a)\n",
    "        elif temp == \"tamgiac\":\n",
    "            TamGiac(a)\n",
    "        temp = \"\"\n"
   ]
  },
  {
   "cell_type": "code",
   "execution_count": null,
   "id": "0cc5223c",
   "metadata": {},
   "outputs": [],
   "source": [
    "import turtle\n",
    "import random\n",
    "\n",
    "t = turtle.Turtle()\n",
    "t.penup()\n",
    "t.back(200)\n",
    "a = int(input(\"Nhập a:\"))\n",
    "\n",
    "def randomcolor():\n",
    "    a = random.randint(1,3)\n",
    "    if (a == 1):\n",
    "        return \"red\"\n",
    "    if (a == 2):\n",
    "        return \"yellow\"\n",
    "    if (a == 3):\n",
    "        return \"green\"\n",
    "\n",
    "def hinhvuong():\n",
    "    global a\n",
    "    for i in range(4):\n",
    "        t.fd(a)\n",
    "        t.left(90)\n",
    "    t.penup()\n",
    "    t.fd(a + 10)\n",
    "    t.pendown()\n",
    "    \n",
    "def hinhtron():\n",
    "    global a\n",
    "    t.penup()\n",
    "    t.fd(a/2)\n",
    "    t.pendown()\n",
    "    t.circle(a/2)\n",
    "    t.penup()\n",
    "    t.fd(a/2 + 10)\n",
    "    t.pendown()\n",
    "    \n",
    "def tamgiac():\n",
    "    global a\n",
    "    for i in range(3):\n",
    "        t.fd(a)\n",
    "        t.left(120)\n",
    "    t.penup()\n",
    "    t.fd(a + 10)\n",
    "    t.pendown()\n",
    "    \n",
    "chuoi = input(\"Nhập vào chuỗi:\")\n",
    "chuoi += \",\"\n",
    "chuoit = \"\"\n",
    "for i in chuoi:\n",
    "    if (i != \",\"):\n",
    "        chuoit += i\n",
    "    else:\n",
    "        chuoit = chuoit.strip()\n",
    "        t.begin_fill()\n",
    "        t.color(\"black\",randomcolor())\n",
    "        if (chuoit == \"tròn\"):\n",
    "            hinhtron()\n",
    "        elif (chuoit == \"vuông\"):\n",
    "            hinhvuong()\n",
    "        elif (chuoit == \"tam giác\"):\n",
    "            tamgiac()\n",
    "        t.end_fill()\n",
    "        chuoit = \"\""
   ]
  },
  {
   "cell_type": "markdown",
   "id": "1479dea4",
   "metadata": {},
   "source": [
    "Ví dụ về Global"
   ]
  },
  {
   "cell_type": "code",
   "execution_count": null,
   "id": "4fda0a6c",
   "metadata": {},
   "outputs": [],
   "source": [
    "van = int(input(\"\"))\n",
    "toan = int(input(\"\"))\n",
    "\n",
    "dtb = \"\"\n",
    "\n",
    "def tinhdtb(van,toan):\n",
    "    global dtb\n",
    "    dtb = (van + toan)/2\n",
    "    \n",
    "def xethsgioi():\n",
    "    global dtb\n",
    "    if (dtb > 8):\n",
    "        print(\"HS Giỏi\")\n",
    "    else:\n",
    "        print(\"HS Khá\")"
   ]
  }
 ],
 "metadata": {
  "kernelspec": {
   "display_name": "Python 3 (ipykernel)",
   "language": "python",
   "name": "python3"
  },
  "language_info": {
   "codemirror_mode": {
    "name": "ipython",
    "version": 3
   },
   "file_extension": ".py",
   "mimetype": "text/x-python",
   "name": "python",
   "nbconvert_exporter": "python",
   "pygments_lexer": "ipython3",
   "version": "3.9.7"
  }
 },
 "nbformat": 4,
 "nbformat_minor": 5
}
